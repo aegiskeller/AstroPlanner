{
 "cells": [
  {
   "cell_type": "code",
   "execution_count": 9,
   "id": "206ab824",
   "metadata": {},
   "outputs": [],
   "source": [
    "import requests\n",
    "import xmltodict\n",
    "import datetime\n",
    "from dateutil import tz\n",
    "import pytz\n",
    "import xmltodict\n",
    "from astropy.time import Time\n",
    "import ephem\n",
    "import PES_secrets"
   ]
  },
  {
   "cell_type": "code",
   "execution_count": 10,
   "id": "7d38042f",
   "metadata": {},
   "outputs": [
    {
     "name": "stdout",
     "output_type": "stream",
     "text": [
      "{'latitude': -35.351835, 'longitude': 149.030122, 'targetaltitude': 20.0, 'sunaltitude': -5.0}\n"
     ]
    }
   ],
   "source": [
    "entry = requests.get(\"https://targettool.aavso.org/TargetTool/api/v1/telescope\",auth=(PES_secrets.apikey,\"api_token\"))\n",
    "print(entry.json())\n"
   ]
  },
  {
   "cell_type": "code",
   "execution_count": 11,
   "id": "62b6fb5d",
   "metadata": {},
   "outputs": [
    {
     "name": "stdout",
     "output_type": "stream",
     "text": [
      "Sunset: 2024/7/28 07:21:07\n",
      "Sunrise: 2024/7/28 21:06:26\n"
     ]
    }
   ],
   "source": [
    "# lets now consider the night in question\n",
    "# Make an observer\n",
    "wombat = ephem.Observer()\n",
    "\n",
    "# Set the date and time \n",
    "wombat.date = datetime.datetime.today().strftime('%Y-%m-%d')#\"2024-07-14\"\n",
    "\n",
    "# Location \n",
    "wombat.lon = str(148.12899)\n",
    "wombat.lat = str(-35.282)\n",
    "\n",
    "# Elevation \n",
    "wombat.elev = 500\n",
    "\n",
    "# To get U.S. Naval Astronomical Almanac values, use these settings\n",
    "wombat.pressure = 0\n",
    "wombat.horizon = '-0:34'\n",
    "\n",
    "# Calculate sunrise, solar noon, and sunset\n",
    "sunrise = wombat.next_rising(ephem.Sun(), use_center=True)\n",
    "#noon = wombat.next_transit(ephem.Sun(), start=sunrise)\n",
    "sunset = wombat.next_setting(ephem.Sun(), use_center=True)\n",
    "\n",
    "# Relocate the horizon to get twilight times\n",
    "wombat.horizon = '-12'  # -6=civil twilight, -12=nautical, -18=astronomical\n",
    "beg_twilight = wombat.next_rising(ephem.Sun(), use_center=True)\n",
    "end_twilight = wombat.next_setting(ephem.Sun(), use_center=True)\n",
    "\n",
    "# Print the results\n",
    "#print(f\"Noon: {noon}\")\n",
    "print(f\"Sunset: {sunset}\")\n",
    "#print(f\"End nautical twilight: {end_twilight}\")\n",
    "#print(f\"Begin nautical twilight: {beg_twilight}\")\n",
    "print(f\"Sunrise: {sunrise}\")\n",
    "#print(f\"date start: {(sunrise):.6f}\")\n",
    "#print(f\"date end: {(sunset):.6f}\")"
   ]
  },
  {
   "cell_type": "code",
   "execution_count": 12,
   "id": "e2598faa",
   "metadata": {},
   "outputs": [],
   "source": [
    "obs_sections = ['eb'] #ac,ep,cv,eb,spp,lpv,yso,het,misc,all."
   ]
  },
  {
   "cell_type": "code",
   "execution_count": 13,
   "id": "ef0bd22b",
   "metadata": {},
   "outputs": [],
   "source": [
    "entry = requests.get(\"https://targettool.aavso.org/TargetTool/api/v1/targets\",\\\n",
    "                     auth=(PES_secrets.apikey,\"api_token\"),params={'observable':['True'],'obs_section':[obs_sections]})\n",
    "targets = entry.json()"
   ]
  },
  {
   "cell_type": "code",
   "execution_count": 14,
   "id": "c7a50340",
   "metadata": {},
   "outputs": [
    {
     "name": "stdout",
     "output_type": "stream",
     "text": [
      "error reading ASAS J050610+2638.7\n",
      "\n",
      "Target Name: DK Cir 221.80270000,-57.67730000\n",
      "UTC Date and Time: 2024-07-28 12:30:14.400096+00:00\n",
      "LT Mimimum: 2024-07-28T22:30:14.400096+10:00\n",
      "Twi: 2024/7/28 08:20:21 to 2024/7/28 20:07:18\n",
      "Target: 2024/7/28 02:43:33 to 2024/7/28 14:31:44\n",
      "Limits: 2024/7/28 08:20:21 to 2024/7/28 14:31:44\n",
      "Duration: 6.19 hrs where target z>2 and nautical\n",
      "\n",
      "Target Name: EW Cru 182.64917000,-63.25064000\n",
      "UTC Date and Time: 2024-07-28 12:06:45.217315+00:00\n",
      "LT Mimimum: 2024-07-28T22:06:45.217315+10:00\n",
      "Twi: 2024/7/28 08:20:21 to 2024/7/28 20:07:18\n",
      "Target: 2024/7/28 23:43:57 to 2024/7/28 12:09:51\n",
      "Limits: 2024/7/28 23:43:57 to 2024/7/28 12:09:51\n",
      "Target enters zone too late\n",
      "\n",
      "Target Name: OU Lup 226.70125000,-35.08264000\n",
      "UTC Date and Time: 2024-07-28 09:11:45.024299+00:00\n",
      "LT Mimimum: 2024-07-28T19:11:45.024299+10:00\n",
      "Twi: 2024/7/28 08:20:21 to 2024/7/28 20:07:18\n",
      "Target: 2024/7/28 03:53:49 to 2024/7/28 13:57:36\n",
      "Limits: 2024/7/28 08:20:21 to 2024/7/28 13:57:36\n",
      "Duration: 5.62 hrs where target z>2 and nautical\n",
      "\n",
      "Target Name: V0397 Pup 117.31104000,-35.24328000\n",
      "UTC Date and Time: 2024-07-28 12:02:13.833593+00:00\n",
      "LT Mimimum: 2024-07-28T22:02:13.833593+10:00\n",
      "Twi: 2024/7/28 08:20:21 to 2024/7/28 20:07:18\n",
      "Target: 2024/7/28 20:30:24 to 2024/7/28 06:38:11\n",
      "Limits: 2024/7/28 20:30:24 to 2024/7/28 06:38:11\n",
      "Target enters zone too late\n",
      "\n",
      "Target Name: V1216 Cen 168.64779000,-55.50233000\n",
      "UTC Date and Time: 2024-07-28 08:21:19.296032+00:00\n",
      "LT Mimimum: 2024-07-28T18:21:19.296032+10:00\n",
      "Twi: 2024/7/28 08:20:21 to 2024/7/28 20:07:18\n",
      "Target: 2024/7/28 23:09:13 to 2024/7/28 10:50:48\n",
      "Limits: 2024/7/28 23:09:13 to 2024/7/28 10:50:48\n",
      "Target enters zone too late\n",
      "\n",
      "Target Name: V1811 Ori 83.55167000,0.41378000\n",
      "UTC Date and Time: 2024-07-28 15:25:24.096823+00:00\n",
      "LT Mimimum: 2024-07-29T01:25:24.096823+10:00\n",
      "Twi: 2024/7/28 08:20:21 to 2024/7/28 20:07:18\n",
      "Target: 2024/7/28 19:52:45 to 2024/7/28 02:49:54\n",
      "Limits: 2024/7/28 19:52:45 to 2024/7/28 02:49:54\n",
      "Duration: -17.05 hrs where target z>2 and nautical\n"
     ]
    }
   ],
   "source": [
    "targets['targets']\n",
    "for star_info in targets['targets']:\n",
    "    star_name = star_info.get('star_name')\n",
    "    if star_name:\n",
    "        # for each star name look up vsx to find the ephemeris\n",
    "        fmt_star_name = star_name.replace(\" \",\"+\")\n",
    "        vsx_req = requests.get(f\"https://www.aavso.org/vsx/index.php?view=query.votable&ident={fmt_star_name}&format=xml\")\n",
    "        json_data = xmltodict.parse(vsx_req.content)\n",
    "        try:\n",
    "            const = json_data['VOTABLE']['RESOURCE']['TABLE']['DATA']['TABLEDATA']['TR']['TD'][2]\n",
    "            radec = json_data['VOTABLE']['RESOURCE']['TABLE']['DATA']['TABLEDATA']['TR']['TD'][3]\n",
    "            vartyp = json_data['VOTABLE']['RESOURCE']['TABLE']['DATA']['TABLEDATA']['TR']['TD'][4]\n",
    "            vmin = json_data['VOTABLE']['RESOURCE']['TABLE']['DATA']['TABLEDATA']['TR']['TD'][5]\n",
    "            vmax = json_data['VOTABLE']['RESOURCE']['TABLE']['DATA']['TABLEDATA']['TR']['TD'][7]\n",
    "            photsys = json_data['VOTABLE']['RESOURCE']['TABLE']['DATA']['TABLEDATA']['TR']['TD'][6]\n",
    "            epoch = float(json_data['VOTABLE']['RESOURCE']['TABLE']['DATA']['TABLEDATA']['TR']['TD'][9])\n",
    "            period = float(json_data['VOTABLE']['RESOURCE']['TABLE']['DATA']['TABLEDATA']['TR']['TD'][11])\n",
    "        except:\n",
    "            print(f'error reading {star_name}')\n",
    "            continue\n",
    "        #print(f\"{const}, {radec}, {vartyp}, {vmin}, {vmax}, {epoch}, {period}\")\n",
    "        # skip those without an ephemeris\n",
    "        if (epoch==0 or period==0):\n",
    "            #print(f\"{epoch} {period}\")\n",
    "            continue\n",
    "        # for each star we check the time of minimum at this date\n",
    "        # to do so we take the epoch zero and add multiples of the period\n",
    "        # until the date is near the night of observation\n",
    "        mjd_start = (end_twilight+2415020.0-2400000.5)\n",
    "        mjd_end = (beg_twilight+2415020.0-2400000.5)\n",
    "        ep = epoch\n",
    "        while (ep<mjd_start):\n",
    "            ep += period\n",
    "        ep -= 0.5 # somewhere there is a jd and not a mjd\n",
    "        #print(f\"Minimum at: {ep}\")\n",
    "        if (ep > mjd_start and ep < mjd_end):\n",
    "            print(f\"\\nTarget Name: {star_name} {radec}\")\n",
    "            #print(f\"well placed for observing {wombat.date}\")\n",
    "            jd_value = ep + 2400000.5 ### this is correct\n",
    "\n",
    "            # Create an astropy Time object from JD\n",
    "            t = Time(jd_value, format='jd')\n",
    "            # Convert to datetime (UTC)\n",
    "            utc_datetime = t.to_datetime(tz.UTC)\n",
    "            print(f\"UTC Date and Time: {utc_datetime}\")\n",
    "            target_timezone = pytz.timezone('Australia/Canberra')\n",
    "            local_datetime = utc_datetime.astimezone(target_timezone)\n",
    "            print(f\"LT Mimimum: {local_datetime.isoformat()}\")\n",
    "            (ra, dec) = [(float(x)/180.)*3.141592 for x in radec.split(',')]\n",
    "            object = ephem.FixedBody()\n",
    "            object._ra = ra\n",
    "            object._dec = dec\n",
    "            object._epoch = 2000.0\n",
    "            wombat.horizon = '30' # set this to determine z=2 limit\n",
    "            object.compute(wombat)\n",
    "            try:\n",
    "                rise = wombat.next_rising(object) \n",
    "                set = wombat.next_setting(object)\n",
    "            except:\n",
    "                print(\"Target outside engagement zone\")\n",
    "                continue\n",
    "            # now we have the bounding sunset and sunrise + the object rise and set\n",
    "            # we can determine the time that the object is visible\n",
    "            start_obs = max(rise, end_twilight)\n",
    "            end_obs = min(set, beg_twilight)\n",
    "            print(f\"Twi: {end_twilight} to {beg_twilight}\")\n",
    "            print(f\"Target: {rise} to {set}\")\n",
    "            print(f\"Limits: {start_obs} to {end_obs}\")\n",
    "            if (rise > beg_twilight):\n",
    "                print(\"Target enters zone too late\")\n",
    "                continue\n",
    "            if (ep < end_obs and utc_datetime > ep):\n",
    "                print(\"***Target has minimum in the targeting window***\")\n",
    "            print(f\"Duration: {(end_obs - start_obs) * 24:.2f} hrs where target z>2 and nautical\")\n"
   ]
  },
  {
   "cell_type": "markdown",
   "id": "41f94707-8d23-4b0a-877b-3cb9384867a1",
   "metadata": {},
   "source": [
    "<h1>Check Target</h1>"
   ]
  },
  {
   "cell_type": "markdown",
   "id": "64bc0ae8-5cf5-4209-9f7d-1bc578013245",
   "metadata": {},
   "source": [
    "Next section to develop a check of if the target is up for long enough"
   ]
  },
  {
   "cell_type": "code",
   "execution_count": null,
   "id": "6db4feeb-91a6-442e-bc09-efabf9fda699",
   "metadata": {},
   "outputs": [],
   "source": [
    "radec = '180, -30'"
   ]
  },
  {
   "cell_type": "code",
   "execution_count": null,
   "id": "6651d396",
   "metadata": {},
   "outputs": [],
   "source": [
    "(ra, dec) = [(float(x)/180.)*3.141592 for x in radec.split(',')]"
   ]
  },
  {
   "cell_type": "code",
   "execution_count": null,
   "id": "09ac812b",
   "metadata": {},
   "outputs": [],
   "source": [
    "object = ephem.FixedBody()\n",
    "object._ra = ra\n",
    "object._dec = dec\n",
    "object._epoch = 2000.0\n",
    "wombat.horizon = '30'"
   ]
  },
  {
   "cell_type": "code",
   "execution_count": null,
   "id": "e2fea7f8-5f63-4bba-8a49-9ce77ae7551e",
   "metadata": {},
   "outputs": [],
   "source": [
    "object.compute(wombat)"
   ]
  },
  {
   "cell_type": "code",
   "execution_count": null,
   "id": "8fa70c07-7b5d-4979-a256-d74803dc3402",
   "metadata": {},
   "outputs": [],
   "source": [
    "rise = wombat.next_rising(object) #, start=sunset)\n",
    "set = wombat.next_setting(object) #, start=sunset)\n",
    "print(f\"{rise} {set}\")"
   ]
  },
  {
   "cell_type": "code",
   "execution_count": null,
   "id": "5d46dd8f-4361-49ea-841f-06002d4d9726",
   "metadata": {},
   "outputs": [],
   "source": [
    "wombat.horizon = '-12'\n",
    "local_sunrise = wombat.next_rising(ephem.Sun()) \n",
    "local_sunset = wombat.next_setting(ephem.Sun())\n",
    "print(f\"{local_sunset} {local_sunrise}\")"
   ]
  },
  {
   "cell_type": "code",
   "execution_count": null,
   "id": "3ba76bbf-8e0d-47c6-ad00-5c21575e3aa1",
   "metadata": {},
   "outputs": [],
   "source": [
    "# now we have the bounding sunset and sunrise + the object rise and set\n",
    "# we can determine the time that the object is visible\n",
    "start_obs = max(rise, local_sunset)\n",
    "end_obs = min(set, local_sunrise)\n",
    "print(f\"{start_obs} to {end_obs}\")\n",
    "print(f\"Duration: {(end_obs - start_obs) * 24:.2f} hrs where target z>3 and nautical\")"
   ]
  },
  {
   "cell_type": "code",
   "execution_count": null,
   "id": "e06a2e85-8e30-4b47-9a3b-7218a6a9c13d",
   "metadata": {},
   "outputs": [],
   "source": [
    "mjd_rise = ephem.julian_date(rise)-2400000.5\n",
    "mjd_set = ephem.julian_date(set)-2400000.5\n",
    "if (mjd_set < mjd_rise):\n",
    "    mjd_set += 1\n",
    "print(f\"{mjd_rise} {mjd_set}\")"
   ]
  },
  {
   "cell_type": "code",
   "execution_count": null,
   "id": "8db38b41-ba5c-4e23-a80d-7d8cedaee0db",
   "metadata": {},
   "outputs": [],
   "source": [
    "mjd_set - mjd_rise"
   ]
  },
  {
   "cell_type": "code",
   "execution_count": null,
   "id": "f2010f6c-0011-4198-8d13-599b9b7a7011",
   "metadata": {},
   "outputs": [],
   "source": [
    "(34+85)/2\n"
   ]
  },
  {
   "cell_type": "code",
   "execution_count": null,
   "id": "db718ad5-e14c-4d0f-90a6-137a248d746e",
   "metadata": {},
   "outputs": [],
   "source": [
    "dec"
   ]
  },
  {
   "cell_type": "code",
   "execution_count": null,
   "id": "1eebfe04-3027-4b7c-a86d-00eb75d6b7b0",
   "metadata": {},
   "outputs": [],
   "source": [
    "a = 180\n",
    "print((a/360)*24)\n"
   ]
  },
  {
   "cell_type": "code",
   "execution_count": null,
   "id": "7332f218-aa23-4902-b9a2-d82b590eef25",
   "metadata": {},
   "outputs": [],
   "source": [
    "object.az"
   ]
  }
 ],
 "metadata": {
  "kernelspec": {
   "display_name": "Python 3 (ipykernel)",
   "language": "python",
   "name": "python3"
  },
  "language_info": {
   "codemirror_mode": {
    "name": "ipython",
    "version": 3
   },
   "file_extension": ".py",
   "mimetype": "text/x-python",
   "name": "python",
   "nbconvert_exporter": "python",
   "pygments_lexer": "ipython3",
   "version": "3.8.5"
  }
 },
 "nbformat": 4,
 "nbformat_minor": 5
}
