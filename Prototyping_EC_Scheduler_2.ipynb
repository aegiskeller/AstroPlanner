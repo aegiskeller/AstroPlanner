{
 "cells": [
  {
   "cell_type": "code",
   "execution_count": 5,
   "id": "206ab824",
   "metadata": {},
   "outputs": [],
   "source": [
    "import requests\n",
    "import xmltodict\n",
    "import datetime\n",
    "from dateutil import tz\n",
    "import pytz\n",
    "import xmltodict\n",
    "from astropy.time import Time\n",
    "import ephem\n",
    "import PES_secrets"
   ]
  },
  {
   "cell_type": "code",
   "execution_count": 4,
   "id": "7d38042f",
   "metadata": {},
   "outputs": [
    {
     "name": "stdout",
     "output_type": "stream",
     "text": [
      "{'latitude': -35.351835, 'longitude': 149.030122, 'targetaltitude': 20.0, 'sunaltitude': -5.0}\n"
     ]
    }
   ],
   "source": [
    "entry = requests.get(\"https://targettool.aavso.org/TargetTool/api/v1/telescope\",auth=(PES_secrets.apikey,\"api_token\"))\n",
    "print(entry.json())\n"
   ]
  },
  {
   "cell_type": "code",
   "execution_count": 18,
   "id": "62b6fb5d",
   "metadata": {},
   "outputs": [
    {
     "name": "stdout",
     "output_type": "stream",
     "text": [
      "Sunset: 2024/7/3 07:06:48\n",
      "End nautical twilight: 2024/7/3 08:06:39\n",
      "Begin nautical twilight: 2024/7/3 20:16:57\n",
      "Sunrise: 2024/7/3 21:16:44\n",
      "MJD start: 60494.337949\n",
      "MJD end: 60494.845100\n"
     ]
    }
   ],
   "source": [
    "# lets now consider the night in question\n",
    "# Make an observer\n",
    "wombat = ephem.Observer()\n",
    "\n",
    "# Set the date and time \n",
    "wombat.date = \"2024-07-03\"\n",
    "\n",
    "# Location \n",
    "wombat.lon = str(148.12899)\n",
    "wombat.lat = str(-35.282)\n",
    "\n",
    "# Elevation \n",
    "wombat.elev = 500\n",
    "\n",
    "# To get U.S. Naval Astronomical Almanac values, use these settings\n",
    "wombat.pressure = 0\n",
    "wombat.horizon = '-0:34'\n",
    "\n",
    "# Calculate sunrise, solar noon, and sunset\n",
    "sunrise = wombat.next_rising(ephem.Sun())\n",
    "#noon = wombat.next_transit(ephem.Sun(), start=sunrise)\n",
    "sunset = wombat.next_setting(ephem.Sun())\n",
    "\n",
    "# Relocate the horizon to get twilight times\n",
    "wombat.horizon = '-12'  # -6=civil twilight, -12=nautical, -18=astronomical\n",
    "beg_twilight = wombat.next_rising(ephem.Sun(), use_center=True)\n",
    "end_twilight = wombat.next_setting(ephem.Sun(), use_center=True)\n",
    "\n",
    "# Print the results\n",
    "#print(f\"Noon: {noon}\")\n",
    "print(f\"Sunset: {sunset}\")\n",
    "print(f\"End nautical twilight: {end_twilight}\")\n",
    "print(f\"Begin nautical twilight: {beg_twilight}\")\n",
    "print(f\"Sunrise: {sunrise}\")\n",
    "print(f\"MJD start: {(end_twilight+2415020-2400000.5 ):.6f}\")\n",
    "print(f\"MJD end: {(beg_twilight+2415020-2400000.5 ):.6f}\")"
   ]
  },
  {
   "cell_type": "code",
   "execution_count": 19,
   "id": "e2598faa",
   "metadata": {},
   "outputs": [],
   "source": [
    "obs_sections = ['eb'] #ac,ep,cv,eb,spp,lpv,yso,het,misc,all."
   ]
  },
  {
   "cell_type": "code",
   "execution_count": 20,
   "id": "ef0bd22b",
   "metadata": {},
   "outputs": [],
   "source": [
    "entry = requests.get(\"https://targettool.aavso.org/TargetTool/api/v1/targets\",\\\n",
    "                     auth=(PES_secrets.apikey,\"api_token\"),params={'observable':['True'],'obs_section':[obs_sections]})\n",
    "targets = entry.json()"
   ]
  },
  {
   "cell_type": "code",
   "execution_count": null,
   "id": "c7a50340",
   "metadata": {},
   "outputs": [
    {
     "name": "stdout",
     "output_type": "stream",
     "text": [
      "Star Name: Dauban V239\n",
      "well placed for observing 2024/7/3 00:00:00\n",
      "Local datetime (Canberra): 2024-07-04T01:46:14.822567+10:00\n"
     ]
    }
   ],
   "source": [
    "targets['targets']\n",
    "for star_info in targets['targets']:\n",
    "    star_name = star_info.get('star_name')\n",
    "    if star_name:\n",
    "        # for each star name look up vsx to find the ephemeris\n",
    "        fmt_star_name = star_name.replace(\" \",\"+\")\n",
    "        vsx_req = requests.get(f\"https://www.aavso.org/vsx/index.php?view=query.votable&ident={fmt_star_name}&format=xml\")\n",
    "        json_data = xmltodict.parse(vsx_req.content)\n",
    "        const = json_data['VOTABLE']['RESOURCE']['TABLE']['DATA']['TABLEDATA']['TR']['TD'][2]\n",
    "        radec = json_data['VOTABLE']['RESOURCE']['TABLE']['DATA']['TABLEDATA']['TR']['TD'][3]\n",
    "        vartyp = json_data['VOTABLE']['RESOURCE']['TABLE']['DATA']['TABLEDATA']['TR']['TD'][4]\n",
    "        vmin = json_data['VOTABLE']['RESOURCE']['TABLE']['DATA']['TABLEDATA']['TR']['TD'][5]\n",
    "        vmax = json_data['VOTABLE']['RESOURCE']['TABLE']['DATA']['TABLEDATA']['TR']['TD'][7]\n",
    "        photsys = json_data['VOTABLE']['RESOURCE']['TABLE']['DATA']['TABLEDATA']['TR']['TD'][6]\n",
    "        epoch = float(json_data['VOTABLE']['RESOURCE']['TABLE']['DATA']['TABLEDATA']['TR']['TD'][9])\n",
    "        period = float(json_data['VOTABLE']['RESOURCE']['TABLE']['DATA']['TABLEDATA']['TR']['TD'][11])\n",
    "        #print(f\"{const}, {radec}, {vartyp}, {vmin}, {vmax}, {epoch}, {period}\")\n",
    "        # skip those without an ephemeris\n",
    "        if (epoch==0 or period==0):\n",
    "            #print(f\"{epoch} {period}\")\n",
    "            continue\n",
    "        # for each star we check the time of minimum at this date\n",
    "        # to do so we take the epoch zero and add multiples of the period\n",
    "        # until the date is near the night of observation\n",
    "        mjd_start = (end_twilight+2415020-2400000.5 )\n",
    "        mjd_end = (beg_twilight+2415020-2400000.5 )\n",
    "        ep = epoch\n",
    "        while (ep<mjd_start):\n",
    "            ep += period\n",
    "        ep -= 0.5 # somewhere there is a jd and not a mjd\n",
    "        #print(f\"Minimum at: {ep}\")\n",
    "        if (ep > mjd_start and ep < mjd_end):\n",
    "            print(f\"Star Name: {star_name}\")\n",
    "            print(f\"well placed for observing {wombat.date}\")\n",
    "            jd_value = ep + 2400000.5 ### this is correct\n",
    "\n",
    "            # Create an astropy Time object from JD\n",
    "            t = Time(jd_value, format='jd')\n",
    "            # Convert to datetime (UTC)\n",
    "            utc_datetime = t.to_datetime(tz.UTC)\n",
    "            #print(f\"UTC Date and Time: {utc_datetime}\")\n",
    "            target_timezone = pytz.timezone('Australia/Canberra')\n",
    "            local_datetime = utc_datetime.astimezone(target_timezone)\n",
    "            print(f\"Local datetime (Canberra): {local_datetime.isoformat()}\")"
   ]
  },
  {
   "cell_type": "code",
   "execution_count": null,
   "id": "6651d396",
   "metadata": {},
   "outputs": [],
   "source": []
  },
  {
   "cell_type": "code",
   "execution_count": null,
   "id": "09ac812b",
   "metadata": {},
   "outputs": [],
   "source": []
  }
 ],
 "metadata": {
  "kernelspec": {
   "display_name": "Python 3 (ipykernel)",
   "language": "python",
   "name": "python3"
  },
  "language_info": {
   "codemirror_mode": {
    "name": "ipython",
    "version": 3
   },
   "file_extension": ".py",
   "mimetype": "text/x-python",
   "name": "python",
   "nbconvert_exporter": "python",
   "pygments_lexer": "ipython3",
   "version": "3.8.5"
  }
 },
 "nbformat": 4,
 "nbformat_minor": 5
}
